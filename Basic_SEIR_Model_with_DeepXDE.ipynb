{
  "nbformat": 4,
  "nbformat_minor": 0,
  "metadata": {
    "colab": {
      "name": "Basic SEIR Model with DeepXDE.ipynb",
      "provenance": [],
      "authorship_tag": "ABX9TyMTUoeeAB20a07hQOkBHdRg"
    },
    "kernelspec": {
      "name": "python3",
      "display_name": "Python 3"
    },
    "language_info": {
      "name": "python"
    }
  },
  "cells": [
    {
      "cell_type": "code",
      "source": [
        "! pip install deepxde==0.10.0"
      ],
      "metadata": {
        "colab": {
          "base_uri": "https://localhost:8080/",
          "height": 1000
        },
        "id": "gl701pmB6BsR",
        "outputId": "b2ae88fa-af4d-46e1-fcdb-7931667cb947"
      },
      "execution_count": 33,
      "outputs": [
        {
          "output_type": "stream",
          "name": "stdout",
          "text": [
            "Collecting deepxde==0.10.0\n",
            "  Downloading DeepXDE-0.10.0-py3-none-any.whl (73 kB)\n",
            "\u001b[K     |████████████████████████████████| 73 kB 686 kB/s \n",
            "\u001b[?25hRequirement already satisfied: scikit-learn in /usr/local/lib/python3.7/dist-packages (from deepxde==0.10.0) (1.0.2)\n",
            "Requirement already satisfied: numpy in /usr/local/lib/python3.7/dist-packages (from deepxde==0.10.0) (1.19.5)\n",
            "Requirement already satisfied: matplotlib in /usr/local/lib/python3.7/dist-packages (from deepxde==0.10.0) (3.2.2)\n",
            "Requirement already satisfied: scipy in /usr/local/lib/python3.7/dist-packages (from deepxde==0.10.0) (1.4.1)\n",
            "Collecting salib\n",
            "  Downloading SALib-1.4.5-py2.py3-none-any.whl (756 kB)\n",
            "\u001b[K     |████████████████████████████████| 756 kB 8.5 MB/s \n",
            "\u001b[?25hRequirement already satisfied: tensorflow>=2.2.0 in /usr/local/lib/python3.7/dist-packages (from deepxde==0.10.0) (2.7.0)\n",
            "Requirement already satisfied: six>=1.12.0 in /usr/local/lib/python3.7/dist-packages (from tensorflow>=2.2.0->deepxde==0.10.0) (1.15.0)\n",
            "Requirement already satisfied: wheel<1.0,>=0.32.0 in /usr/local/lib/python3.7/dist-packages (from tensorflow>=2.2.0->deepxde==0.10.0) (0.37.1)\n",
            "Requirement already satisfied: termcolor>=1.1.0 in /usr/local/lib/python3.7/dist-packages (from tensorflow>=2.2.0->deepxde==0.10.0) (1.1.0)\n",
            "Requirement already satisfied: wrapt>=1.11.0 in /usr/local/lib/python3.7/dist-packages (from tensorflow>=2.2.0->deepxde==0.10.0) (1.13.3)\n",
            "Requirement already satisfied: keras-preprocessing>=1.1.1 in /usr/local/lib/python3.7/dist-packages (from tensorflow>=2.2.0->deepxde==0.10.0) (1.1.2)\n",
            "Requirement already satisfied: keras<2.8,>=2.7.0rc0 in /usr/local/lib/python3.7/dist-packages (from tensorflow>=2.2.0->deepxde==0.10.0) (2.7.0)\n",
            "Requirement already satisfied: gast<0.5.0,>=0.2.1 in /usr/local/lib/python3.7/dist-packages (from tensorflow>=2.2.0->deepxde==0.10.0) (0.4.0)\n",
            "Requirement already satisfied: absl-py>=0.4.0 in /usr/local/lib/python3.7/dist-packages (from tensorflow>=2.2.0->deepxde==0.10.0) (0.12.0)\n",
            "Requirement already satisfied: h5py>=2.9.0 in /usr/local/lib/python3.7/dist-packages (from tensorflow>=2.2.0->deepxde==0.10.0) (3.1.0)\n",
            "Requirement already satisfied: opt-einsum>=2.3.2 in /usr/local/lib/python3.7/dist-packages (from tensorflow>=2.2.0->deepxde==0.10.0) (3.3.0)\n",
            "Requirement already satisfied: tensorflow-io-gcs-filesystem>=0.21.0 in /usr/local/lib/python3.7/dist-packages (from tensorflow>=2.2.0->deepxde==0.10.0) (0.23.1)\n",
            "Requirement already satisfied: libclang>=9.0.1 in /usr/local/lib/python3.7/dist-packages (from tensorflow>=2.2.0->deepxde==0.10.0) (12.0.0)\n",
            "Requirement already satisfied: grpcio<2.0,>=1.24.3 in /usr/local/lib/python3.7/dist-packages (from tensorflow>=2.2.0->deepxde==0.10.0) (1.43.0)\n",
            "Requirement already satisfied: flatbuffers<3.0,>=1.12 in /usr/local/lib/python3.7/dist-packages (from tensorflow>=2.2.0->deepxde==0.10.0) (2.0)\n",
            "Requirement already satisfied: tensorflow-estimator<2.8,~=2.7.0rc0 in /usr/local/lib/python3.7/dist-packages (from tensorflow>=2.2.0->deepxde==0.10.0) (2.7.0)\n",
            "Requirement already satisfied: google-pasta>=0.1.1 in /usr/local/lib/python3.7/dist-packages (from tensorflow>=2.2.0->deepxde==0.10.0) (0.2.0)\n",
            "Requirement already satisfied: typing-extensions>=3.6.6 in /usr/local/lib/python3.7/dist-packages (from tensorflow>=2.2.0->deepxde==0.10.0) (3.10.0.2)\n",
            "Requirement already satisfied: protobuf>=3.9.2 in /usr/local/lib/python3.7/dist-packages (from tensorflow>=2.2.0->deepxde==0.10.0) (3.17.3)\n",
            "Requirement already satisfied: astunparse>=1.6.0 in /usr/local/lib/python3.7/dist-packages (from tensorflow>=2.2.0->deepxde==0.10.0) (1.6.3)\n",
            "Requirement already satisfied: tensorboard~=2.6 in /usr/local/lib/python3.7/dist-packages (from tensorflow>=2.2.0->deepxde==0.10.0) (2.7.0)\n",
            "Requirement already satisfied: cached-property in /usr/local/lib/python3.7/dist-packages (from h5py>=2.9.0->tensorflow>=2.2.0->deepxde==0.10.0) (1.5.2)\n",
            "Requirement already satisfied: google-auth<3,>=1.6.3 in /usr/local/lib/python3.7/dist-packages (from tensorboard~=2.6->tensorflow>=2.2.0->deepxde==0.10.0) (1.35.0)\n",
            "Requirement already satisfied: setuptools>=41.0.0 in /usr/local/lib/python3.7/dist-packages (from tensorboard~=2.6->tensorflow>=2.2.0->deepxde==0.10.0) (57.4.0)\n",
            "Requirement already satisfied: requests<3,>=2.21.0 in /usr/local/lib/python3.7/dist-packages (from tensorboard~=2.6->tensorflow>=2.2.0->deepxde==0.10.0) (2.23.0)\n",
            "Requirement already satisfied: markdown>=2.6.8 in /usr/local/lib/python3.7/dist-packages (from tensorboard~=2.6->tensorflow>=2.2.0->deepxde==0.10.0) (3.3.6)\n",
            "Requirement already satisfied: tensorboard-data-server<0.7.0,>=0.6.0 in /usr/local/lib/python3.7/dist-packages (from tensorboard~=2.6->tensorflow>=2.2.0->deepxde==0.10.0) (0.6.1)\n",
            "Requirement already satisfied: werkzeug>=0.11.15 in /usr/local/lib/python3.7/dist-packages (from tensorboard~=2.6->tensorflow>=2.2.0->deepxde==0.10.0) (1.0.1)\n",
            "Requirement already satisfied: google-auth-oauthlib<0.5,>=0.4.1 in /usr/local/lib/python3.7/dist-packages (from tensorboard~=2.6->tensorflow>=2.2.0->deepxde==0.10.0) (0.4.6)\n",
            "Requirement already satisfied: tensorboard-plugin-wit>=1.6.0 in /usr/local/lib/python3.7/dist-packages (from tensorboard~=2.6->tensorflow>=2.2.0->deepxde==0.10.0) (1.8.1)\n",
            "Requirement already satisfied: pyasn1-modules>=0.2.1 in /usr/local/lib/python3.7/dist-packages (from google-auth<3,>=1.6.3->tensorboard~=2.6->tensorflow>=2.2.0->deepxde==0.10.0) (0.2.8)\n",
            "Requirement already satisfied: rsa<5,>=3.1.4 in /usr/local/lib/python3.7/dist-packages (from google-auth<3,>=1.6.3->tensorboard~=2.6->tensorflow>=2.2.0->deepxde==0.10.0) (4.8)\n",
            "Requirement already satisfied: cachetools<5.0,>=2.0.0 in /usr/local/lib/python3.7/dist-packages (from google-auth<3,>=1.6.3->tensorboard~=2.6->tensorflow>=2.2.0->deepxde==0.10.0) (4.2.4)\n",
            "Requirement already satisfied: requests-oauthlib>=0.7.0 in /usr/local/lib/python3.7/dist-packages (from google-auth-oauthlib<0.5,>=0.4.1->tensorboard~=2.6->tensorflow>=2.2.0->deepxde==0.10.0) (1.3.0)\n",
            "Requirement already satisfied: importlib-metadata>=4.4 in /usr/local/lib/python3.7/dist-packages (from markdown>=2.6.8->tensorboard~=2.6->tensorflow>=2.2.0->deepxde==0.10.0) (4.10.0)\n",
            "Requirement already satisfied: zipp>=0.5 in /usr/local/lib/python3.7/dist-packages (from importlib-metadata>=4.4->markdown>=2.6.8->tensorboard~=2.6->tensorflow>=2.2.0->deepxde==0.10.0) (3.7.0)\n",
            "Requirement already satisfied: pyasn1<0.5.0,>=0.4.6 in /usr/local/lib/python3.7/dist-packages (from pyasn1-modules>=0.2.1->google-auth<3,>=1.6.3->tensorboard~=2.6->tensorflow>=2.2.0->deepxde==0.10.0) (0.4.8)\n",
            "Requirement already satisfied: chardet<4,>=3.0.2 in /usr/local/lib/python3.7/dist-packages (from requests<3,>=2.21.0->tensorboard~=2.6->tensorflow>=2.2.0->deepxde==0.10.0) (3.0.4)\n",
            "Requirement already satisfied: idna<3,>=2.5 in /usr/local/lib/python3.7/dist-packages (from requests<3,>=2.21.0->tensorboard~=2.6->tensorflow>=2.2.0->deepxde==0.10.0) (2.10)\n",
            "Requirement already satisfied: certifi>=2017.4.17 in /usr/local/lib/python3.7/dist-packages (from requests<3,>=2.21.0->tensorboard~=2.6->tensorflow>=2.2.0->deepxde==0.10.0) (2021.10.8)\n",
            "Requirement already satisfied: urllib3!=1.25.0,!=1.25.1,<1.26,>=1.21.1 in /usr/local/lib/python3.7/dist-packages (from requests<3,>=2.21.0->tensorboard~=2.6->tensorflow>=2.2.0->deepxde==0.10.0) (1.24.3)\n",
            "Requirement already satisfied: oauthlib>=3.0.0 in /usr/local/lib/python3.7/dist-packages (from requests-oauthlib>=0.7.0->google-auth-oauthlib<0.5,>=0.4.1->tensorboard~=2.6->tensorflow>=2.2.0->deepxde==0.10.0) (3.1.1)\n",
            "Requirement already satisfied: kiwisolver>=1.0.1 in /usr/local/lib/python3.7/dist-packages (from matplotlib->deepxde==0.10.0) (1.3.2)\n",
            "Requirement already satisfied: pyparsing!=2.0.4,!=2.1.2,!=2.1.6,>=2.0.1 in /usr/local/lib/python3.7/dist-packages (from matplotlib->deepxde==0.10.0) (3.0.6)\n",
            "Requirement already satisfied: cycler>=0.10 in /usr/local/lib/python3.7/dist-packages (from matplotlib->deepxde==0.10.0) (0.11.0)\n",
            "Requirement already satisfied: python-dateutil>=2.1 in /usr/local/lib/python3.7/dist-packages (from matplotlib->deepxde==0.10.0) (2.8.2)\n",
            "Collecting pathos\n",
            "  Downloading pathos-0.2.8-py2.py3-none-any.whl (81 kB)\n",
            "\u001b[K     |████████████████████████████████| 81 kB 7.8 MB/s \n",
            "\u001b[?25hRequirement already satisfied: pandas in /usr/local/lib/python3.7/dist-packages (from salib->deepxde==0.10.0) (1.1.5)\n",
            "Requirement already satisfied: pytz>=2017.2 in /usr/local/lib/python3.7/dist-packages (from pandas->salib->deepxde==0.10.0) (2018.9)\n",
            "Collecting ppft>=1.6.6.4\n",
            "  Downloading ppft-1.6.6.4-py3-none-any.whl (65 kB)\n",
            "\u001b[K     |████████████████████████████████| 65 kB 3.0 MB/s \n",
            "\u001b[?25hRequirement already satisfied: dill>=0.3.4 in /usr/local/lib/python3.7/dist-packages (from pathos->salib->deepxde==0.10.0) (0.3.4)\n",
            "Requirement already satisfied: multiprocess>=0.70.12 in /usr/local/lib/python3.7/dist-packages (from pathos->salib->deepxde==0.10.0) (0.70.12.2)\n",
            "Collecting pox>=0.3.0\n",
            "  Downloading pox-0.3.0-py2.py3-none-any.whl (30 kB)\n",
            "Requirement already satisfied: joblib>=0.11 in /usr/local/lib/python3.7/dist-packages (from scikit-learn->deepxde==0.10.0) (1.1.0)\n",
            "Requirement already satisfied: threadpoolctl>=2.0.0 in /usr/local/lib/python3.7/dist-packages (from scikit-learn->deepxde==0.10.0) (3.0.0)\n",
            "Installing collected packages: ppft, pox, pathos, salib, deepxde\n",
            "  Attempting uninstall: deepxde\n",
            "    Found existing installation: DeepXDE 0.14.1\n",
            "    Uninstalling DeepXDE-0.14.1:\n",
            "      Successfully uninstalled DeepXDE-0.14.1\n",
            "Successfully installed deepxde-0.10.0 pathos-0.2.8 pox-0.3.0 ppft-1.6.6.4 salib-1.4.5\n"
          ]
        },
        {
          "output_type": "display_data",
          "data": {
            "application/vnd.colab-display-data+json": {
              "pip_warning": {
                "packages": [
                  "deepxde"
                ]
              }
            }
          },
          "metadata": {}
        }
      ]
    },
    {
      "cell_type": "code",
      "source": [
        "import numpy as np\n",
        "from scipy.integrate import odeint"
      ],
      "metadata": {
        "id": "oCbMlX6Zemx-"
      },
      "execution_count": 45,
      "outputs": []
    },
    {
      "cell_type": "code",
      "source": [
        "import deepxde as dde\n",
        "from deepxde.backend import tf"
      ],
      "metadata": {
        "id": "VPoIUT146Ioc"
      },
      "execution_count": 46,
      "outputs": []
    },
    {
      "cell_type": "code",
      "source": [
        "alpha=0.25\n",
        "alpha_r=0.1\n",
        "beta=0.5\n",
        "gamma_r=0.095\n",
        "gamma_u=0.2\n",
        "mu=0.005\n",
        "N=50000\n",
        "E=10"
      ],
      "metadata": {
        "id": "xn5zvO6EFVo1"
      },
      "execution_count": 47,
      "outputs": []
    },
    {
      "cell_type": "code",
      "source": [
        "def seirm_model_covid(\n",
        "    t,\n",
        "    alpha=0.25,\n",
        "    alpha_r=0.1,\n",
        "    beta=0.5,\n",
        "    gamma_r=0.095,\n",
        "    gamma_u=0.2,\n",
        "    mu=0.005,\n",
        "    N=50000,\n",
        "    E=10):\n",
        "  def func(y,t):\n",
        "    alpha_u = 1.0*(1-alpha)/alpha * alpha_r\n",
        "    dS = -1.0*beta*y[0]*(y[2]+y[3])/N\n",
        "    dE = beta*y[0]*(y[2]+y[3])/N - alpha_r*y[1] - alpha_u*y[1]\n",
        "    dI_r = alpha_r*y[1] - gamma_r*y[2] - mu*y[2]\n",
        "    dI_u = alpha_u*y[1] - gamma_u*y[3]\n",
        "    dR = gamma_r*y[2] + gamma_u*y[3]\n",
        "    dM = mu*y[2]\n",
        "    return [dS,dE,dI_r,dI_u,dR,dM]\n",
        "  y0=[N, E, 0, 0, 0 ,0]\n",
        "  return odeint(func, y0, t)"
      ],
      "metadata": {
        "id": "qDyUqJP5e-lt"
      },
      "execution_count": 48,
      "outputs": []
    },
    {
      "cell_type": "code",
      "source": [
        "t = np.arange(1, 91,1)[:, None]\n",
        "y = seirm_model_covid(np.ravel(t))\n",
        "noise=0"
      ],
      "metadata": {
        "id": "HnL5gUQwoJMw"
      },
      "execution_count": 49,
      "outputs": []
    },
    {
      "cell_type": "code",
      "source": [
        "if noise > 0:\n",
        "    std = noise * y.std(0)\n",
        "    y[1:-1, :] += np.random.normal(0, std, (y.shape[0] - 2, y.shape[1]))\n",
        "    #np.savetxt(\"glycolysis_noise.dat\", np.hstack((t, y)))"
      ],
      "metadata": {
        "id": "5HIITOOZorT2"
      },
      "execution_count": 50,
      "outputs": []
    },
    {
      "cell_type": "code",
      "source": [
        "def pinn(data_t, data_y, noise):\n",
        "    alpha = tf.math.softplus(tf.Variable(0, trainable=True, dtype=tf.float32))\n",
        "    alpha_r = tf.math.softplus(tf.Variable(0, trainable=True, dtype=tf.float32))\n",
        "    beta = tf.math.softplus(tf.Variable(0, trainable=True, dtype=tf.float32))\n",
        "    gamma_r = tf.math.softplus(tf.Variable(0, trainable=True, dtype=tf.float32))\n",
        "    gamma_u = tf.math.softplus(tf.Variable(0, trainable=True, dtype=tf.float32))\n",
        "    mu = tf.math.softplus(tf.Variable(0, trainable=True, dtype=tf.float32))\n",
        "    N = tf.math.softplus(tf.Variable(0, trainable=True, dtype=tf.float32))\n",
        "    E = tf.math.softplus(tf.Variable(0, trainable=True, dtype=tf.float32))\n",
        "    var_list = [alpha,alpha_r,beta,gamma_r,gamma_u,mu,N,E]\n",
        "    def ODE(t, y):\n",
        "        alpha_u = 1.0*(1-alpha)/alpha * alpha_r\n",
        "        dS = -1.0*beta*y[0]*(y[2]+y[3])/N\n",
        "        dE = beta*y[0]*(y[2]+y[3])/N - alpha_r*y[1] - alpha_u*y[1]\n",
        "        dI_r = alpha_r*y[1] - gamma_r*y[2] - mu*y[2]\n",
        "        dI_u = alpha_u*y[1] - gamma_u*y[3]\n",
        "        dR = gamma_r*y[2] + gamma_u*y[3]\n",
        "        dM = mu*y[2]\n",
        "        return [tf.gradients(y[:, 0:1], t)[0] - dS,tf.gradients(y[:, 1:2], t)[0] - dE,tf.gradients(y[:, 2:3], t)[0] - dI_r,tf.gradients(y[:, 3:4], t)[0] - dI_u,tf.gradients(y[:, 4:5], t)[0] - dR,tf.gradients(y[:, 5:6], t)[0] - dM]\n",
        "    geom = dde.geometry.TimeDomain(data_t[0, 0], data_t[-1, 0])\n",
        "    # Right point\n",
        "    def boundary(x, _):\n",
        "        return np.isclose(x[0], data_t[-1, 0])\n",
        "    y1 = data_y[-1]\n",
        "    bc0 = dde.DirichletBC(geom, lambda X: y1[0], boundary, component=0)\n",
        "    bc1 = dde.DirichletBC(geom, lambda X: y1[1], boundary, component=1)\n",
        "    bc2 = dde.DirichletBC(geom, lambda X: y1[2], boundary, component=2)\n",
        "    bc3 = dde.DirichletBC(geom, lambda X: y1[3], boundary, component=3)\n",
        "    bc4 = dde.DirichletBC(geom, lambda X: y1[4], boundary, component=4)\n",
        "    bc5 = dde.DirichletBC(geom, lambda X: y1[5], boundary, component=5)\n",
        "    n = len(data_t)\n",
        "    idx = np.append(\n",
        "        np.random.choice(np.arange(1, n - 1), size=n // 4, replace=False), [0, n - 1]\n",
        "    )\n",
        "    ptset = dde.bc.PointSet(data_t[idx])\n",
        "    inside = lambda x, _: ptset.inside(x)\n",
        "    # Inputs for the training using S5 and S6\n",
        "    observe_y4 = dde.DirichletBC(\n",
        "        geom, ptset.values_to_func(data_y[idx, 4:5]), inside, component=4\n",
        "    )\n",
        "    observe_y5 = dde.DirichletBC(\n",
        "        geom, ptset.values_to_func(data_y[idx, 5:6]), inside, component=5\n",
        "    )\n",
        "    data = dde.data.PDE(\n",
        "        geom,\n",
        "        ODE,\n",
        "        [bc0, bc1, bc2, bc3, bc4, bc5, observe_y4, observe_y5],\n",
        "        anchors=data_t,\n",
        "    )\n",
        "\n",
        "    net = dde.maps.FNN([1] + [128] * 3 + [7], \"swish\", \"Glorot normal\")\n",
        "    # Apply appropriate Feature Transform\n",
        "    model = dde.Model(data, net)\n",
        "\n",
        "    checkpointer = dde.callbacks.ModelCheckpoint(\n",
        "        \"./model/model.ckpt\", verbose=1, save_better_only=True, period=1000\n",
        "    )\n",
        "    variable = dde.callbacks.VariableValue(\n",
        "        var_list, period=1000, filename=\"variables.dat\", precision=3,\n",
        "    )\n",
        "    callbacks = [checkpointer, variable]\n",
        "\n",
        "    bc_weights = [1, 1, 1, 1, 1]\n",
        "    if noise >= 0.1:\n",
        "        bc_weights = [w * 10 for w in bc_weights]\n",
        "    data_weights = [1e3, 1]\n",
        "    # Large noise requires small data_weights\n",
        "    if noise >= 0.1:\n",
        "        data_weights = [w / 10 for w in data_weights]\n",
        "    model.compile(\"adam\", lr=1e-3, loss_weights=[0] * 7 + bc_weights + data_weights)\n",
        "    model.train(epochs=1000, display_every=1000)\n",
        "    ode_weights = [1e-3, 1e-3,1e-3, 1e-3,1e-3,1e-3,1e-3]\n",
        "    # Large noise requires large ode_weights\n",
        "    if noise > 0:\n",
        "        ode_weights = [10 * w for w in ode_weights]\n",
        "    model.compile(\"adam\", lr=1e-3, loss_weights=ode_weights + bc_weights + data_weights)\n",
        "    losshistory, train_state = model.train(\n",
        "        epochs=20000 if noise == 0 else 20000,\n",
        "        display_every=1000,\n",
        "        callbacks=callbacks,\n",
        "        disregard_previous_best=True,\n",
        "        # model_restore_path=\"./model/model.ckpt-\"\n",
        "    )\n",
        "    dde.saveplot(losshistory, train_state, issave=True, isplot=True)\n",
        "    var_list = [model.sess.run(v) for v in var_list]\n",
        "    return var_list,model"
      ],
      "metadata": {
        "id": "VuRpNDjM1ae_"
      },
      "execution_count": 51,
      "outputs": []
    },
    {
      "cell_type": "code",
      "source": [
        "# Train\n",
        "var_list = pinn(t, y, noise)"
      ],
      "metadata": {
        "colab": {
          "base_uri": "https://localhost:8080/",
          "height": 1000
        },
        "id": "5X6uZ8-L8WJ9",
        "outputId": "74ee57dd-7bbd-4065-a842-265ce24224f0"
      },
      "execution_count": 52,
      "outputs": [
        {
          "output_type": "stream",
          "name": "stdout",
          "text": [
            "Compiling model...\n",
            "Building feed-forward neural network...\n",
            "'build' took 0.133775 s\n",
            "\n"
          ]
        },
        {
          "output_type": "stream",
          "name": "stderr",
          "text": [
            "/usr/local/lib/python3.7/dist-packages/deepxde/maps/fnn.py:82: UserWarning: `tf.layers.dense` is deprecated and will be removed in a future version. Please use `tf.keras.layers.Dense` instead.\n",
            "  kernel_regularizer=self.regularizer,\n",
            "/usr/local/lib/python3.7/dist-packages/keras/legacy_tf_layers/core.py:255: UserWarning: `layer.apply` is deprecated and will be removed in a future version. Please use `layer.__call__` method instead.\n",
            "  return layer.apply(inputs)\n"
          ]
        },
        {
          "output_type": "stream",
          "name": "stdout",
          "text": [
            "'compile' took 5.412900 s\n",
            "\n",
            "Initializing variables...\n",
            "Training model...\n",
            "\n",
            "Step      Train loss                                                                                                                                      Test loss                                                                                                                                       Test metric\n",
            "0         [0.00e+00, 0.00e+00, 0.00e+00, 0.00e+00, 0.00e+00, 0.00e+00, 0.00e+00, 3.07e+03, 1.86e+05, 4.32e+04, 2.12e+09, 3.29e+05, 6.70e+11, 9.42e+04]    [0.00e+00, 0.00e+00, 0.00e+00, 0.00e+00, 0.00e+00, 0.00e+00, 0.00e+00, 0.00e+00, 0.00e+00, 0.00e+00, 0.00e+00, 0.00e+00, 0.00e+00, 0.00e+00]    []  \n",
            "1000      [0.00e+00, 0.00e+00, 0.00e+00, 0.00e+00, 0.00e+00, 0.00e+00, 0.00e+00, 7.36e+00, 6.75e-01, 1.17e+01, 1.52e+07, 1.23e+01, 4.99e+09, 3.04e+02]    [0.00e+00, 0.00e+00, 0.00e+00, 0.00e+00, 0.00e+00, 0.00e+00, 0.00e+00, 0.00e+00, 0.00e+00, 0.00e+00, 0.00e+00, 0.00e+00, 0.00e+00, 0.00e+00]    []  \n",
            "\n",
            "Best model at step 1000:\n",
            "  train loss: 5.00e+09\n",
            "  test loss: 0.00e+00\n",
            "  test metric: []\n",
            "\n",
            "'train' took 14.952414 s\n",
            "\n",
            "Compiling model...\n",
            "'compile' took 3.141069 s\n",
            "\n",
            "Training model...\n",
            "\n",
            "Step      Train loss                                                                                                                                      Test loss                                                                                                                                       Test metric\n",
            "1000      [3.54e+15, 3.54e+15, 1.74e+05, 5.40e+04, 6.85e+05, 1.74e+05, 7.77e+04, 7.36e+00, 6.75e-01, 1.17e+01, 1.52e+07, 1.23e+01, 4.99e+09, 3.04e+02]    [9.39e+09, 9.39e+09, 3.64e+02, 1.13e+02, 2.76e+03, 3.86e+02, 0.00e+00, 0.00e+00, 0.00e+00, 0.00e+00, 0.00e+00, 0.00e+00, 0.00e+00, 0.00e+00]    []  \n",
            "2000      [6.20e+09, 6.19e+09, 1.95e+02, 5.75e+01, 8.72e+02, 2.19e+02, 7.39e+03, 1.10e+03, 1.34e+05, 2.97e+04, 1.95e+09, 2.53e+05, 5.70e+11, 6.14e+04]    [2.08e+11, 2.08e+11, 1.78e+03, 5.57e+02, 7.58e+03, 1.87e+03, 0.00e+00, 0.00e+00, 0.00e+00, 0.00e+00, 0.00e+00, 0.00e+00, 0.00e+00, 0.00e+00]    []  \n",
            "Epoch 2000: train loss improved from inf to 5.84e+11, saving model to ./model/model.ckpt-2000 ...\n",
            "\n",
            "INFO:tensorflow:./model/model.ckpt-2000 is not in all_model_checkpoint_paths. Manually adding it.\n",
            "3000      [5.76e+09, 5.75e+09, 1.64e+02, 4.83e+01, 8.24e+02, 1.99e+02, 7.43e+03, 1.10e+03, 1.33e+05, 3.00e+04, 1.95e+09, 2.54e+05, 5.24e+11, 5.32e+04]    [4.08e+11, 4.08e+11, 2.45e+03, 7.80e+02, 1.11e+04, 2.73e+03, 0.00e+00, 0.00e+00, 0.00e+00, 0.00e+00, 0.00e+00, 0.00e+00, 0.00e+00, 0.00e+00]    []  \n",
            "Epoch 3000: train loss improved from 5.84e+11 to 5.38e+11, saving model to ./model/model.ckpt-3000 ...\n",
            "\n",
            "INFO:tensorflow:./model/model.ckpt-3000 is not in all_model_checkpoint_paths. Manually adding it.\n",
            "4000      [4.35e+09, 4.35e+09, 1.16e+02, 3.38e+01, 8.96e+02, 1.58e+02, 7.30e+03, 6.84e+02, 1.32e+05, 2.99e+04, 1.96e+09, 2.54e+05, 4.35e+11, 4.95e+04]    [5.40e+11, 5.40e+11, 2.42e+03, 8.01e+02, 1.22e+04, 2.92e+03, 0.00e+00, 0.00e+00, 0.00e+00, 0.00e+00, 0.00e+00, 0.00e+00, 0.00e+00, 0.00e+00]    []  \n",
            "Epoch 4000: train loss improved from 5.38e+11 to 4.46e+11, saving model to ./model/model.ckpt-4000 ...\n",
            "\n",
            "INFO:tensorflow:./model/model.ckpt-4000 is not in all_model_checkpoint_paths. Manually adding it.\n",
            "5000      [3.28e+09, 3.28e+09, 7.23e+01, 2.05e+01, 1.34e+03, 1.21e+02, 7.30e+03, 1.10e+03, 1.37e+05, 2.88e+04, 1.97e+09, 2.54e+05, 3.25e+11, 3.84e+04]    [4.82e+13, 4.82e+13, 1.22e+04, 3.93e+03, 7.31e+04, 1.79e+04, 0.00e+00, 0.00e+00, 0.00e+00, 0.00e+00, 0.00e+00, 0.00e+00, 0.00e+00, 0.00e+00]    []  \n",
            "Epoch 5000: train loss improved from 4.46e+11 to 3.34e+11, saving model to ./model/model.ckpt-5000 ...\n",
            "\n",
            "INFO:tensorflow:./model/model.ckpt-5000 is not in all_model_checkpoint_paths. Manually adding it.\n",
            "6000      [4.95e+09, 4.95e+09, 5.20e+01, 1.49e+01, 9.53e+02, 1.23e+02, 7.12e+03, 3.63e+04, 1.36e+05, 2.97e+04, 1.96e+09, 2.56e+05, 3.97e+11, 6.23e+04]    [6.73e+14, 6.73e+14, 2.58e+04, 8.02e+03, 2.15e+05, 5.41e+04, 0.00e+00, 0.00e+00, 0.00e+00, 0.00e+00, 0.00e+00, 0.00e+00, 0.00e+00, 0.00e+00]    []  \n",
            "7000      [3.20e+09, 3.20e+09, 1.91e+01, 4.73e+00, 1.24e+03, 8.07e+01, 7.10e+03, 3.59e+04, 1.34e+05, 2.87e+04, 1.97e+09, 2.55e+05, 3.13e+11, 3.58e+04]    [2.27e+15, 2.27e+15, 2.24e+04, 6.27e+03, 3.20e+05, 8.22e+04, 0.00e+00, 0.00e+00, 0.00e+00, 0.00e+00, 0.00e+00, 0.00e+00, 0.00e+00, 0.00e+00]    []  \n",
            "Epoch 7000: train loss improved from 3.34e+11 to 3.22e+11, saving model to ./model/model.ckpt-7000 ...\n",
            "\n",
            "INFO:tensorflow:./model/model.ckpt-7000 is not in all_model_checkpoint_paths. Manually adding it.\n",
            "8000      [4.90e+06, 4.86e+06, 4.11e-01, 4.14e-01, 2.46e+02, 4.60e+00, 8.10e+03, 5.02e+04, 1.10e+05, 6.51e+02, 2.11e+09, 2.33e+05, 7.10e+11, 1.43e+05]    [5.21e+15, 5.21e+15, 3.12e+03, 6.40e+02, 3.57e+05, 9.66e+04, 0.00e+00, 0.00e+00, 0.00e+00, 0.00e+00, 0.00e+00, 0.00e+00, 0.00e+00, 0.00e+00]    []  \n",
            "9000      [5.69e+09, 5.69e+09, 1.86e-01, 8.75e-02, 4.42e+02, 6.89e+01, 7.15e+03, 3.97e+04, 1.31e+05, 2.63e+04, 1.95e+09, 2.49e+05, 5.22e+11, 5.08e+04]    [6.13e+15, 6.13e+15, 1.43e+02, 1.00e+01, 3.34e+05, 9.14e+04, 0.00e+00, 0.00e+00, 0.00e+00, 0.00e+00, 0.00e+00, 0.00e+00, 0.00e+00, 0.00e+00]    []  \n",
            "10000     [5.07e+09, 5.07e+09, 1.36e+00, 1.18e+00, 4.96e+02, 5.51e+01, 7.90e+03, 1.95e+04, 1.31e+05, 2.63e+04, 1.95e+09, 2.49e+05, 4.64e+11, 4.64e+04]    [8.34e+15, 8.34e+15, 2.16e+03, 1.95e+03, 3.27e+05, 9.19e+04, 0.00e+00, 0.00e+00, 0.00e+00, 0.00e+00, 0.00e+00, 0.00e+00, 0.00e+00, 0.00e+00]    []  \n",
            "11000     [3.74e+09, 3.73e+09, 5.71e+00, 4.25e+00, 7.64e+02, 4.01e+01, 7.75e+03, 1.87e+04, 1.30e+05, 2.62e+04, 1.96e+09, 2.51e+05, 3.78e+11, 4.47e+04]    [1.46e+16, 1.46e+16, 1.58e+04, 1.17e+04, 3.55e+05, 1.05e+05, 0.00e+00, 0.00e+00, 0.00e+00, 0.00e+00, 0.00e+00, 0.00e+00, 0.00e+00, 0.00e+00]    []  \n",
            "12000     [3.31e+09, 3.30e+09, 1.26e+01, 1.03e+01, 1.27e+03, 3.26e+01, 7.75e+03, 1.05e+04, 1.31e+05, 2.60e+04, 1.97e+09, 2.49e+05, 2.99e+11, 3.62e+04]    [2.69e+16, 2.69e+16, 5.15e+04, 4.08e+04, 3.91e+05, 1.24e+05, 0.00e+00, 0.00e+00, 0.00e+00, 0.00e+00, 0.00e+00, 0.00e+00, 0.00e+00, 0.00e+00]    []  \n",
            "Epoch 12000: train loss improved from 3.22e+11 to 3.07e+11, saving model to ./model/model.ckpt-12000 ...\n",
            "\n",
            "INFO:tensorflow:./model/model.ckpt-12000 is not in all_model_checkpoint_paths. Manually adding it.\n",
            "13000     [2.91e+09, 2.91e+09, 2.12e+01, 2.05e+01, 1.64e+03, 2.77e+01, 7.75e+03, 6.94e+03, 1.30e+05, 2.58e+04, 1.97e+09, 2.48e+05, 2.54e+11, 3.02e+04]    [5.70e+16, 5.70e+16, 1.35e+05, 1.29e+05, 4.65e+05, 1.65e+05, 0.00e+00, 0.00e+00, 0.00e+00, 0.00e+00, 0.00e+00, 0.00e+00, 0.00e+00, 0.00e+00]    []  \n",
            "Epoch 13000: train loss improved from 3.07e+11 to 2.61e+11, saving model to ./model/model.ckpt-13000 ...\n",
            "\n",
            "INFO:tensorflow:./model/model.ckpt-13000 is not in all_model_checkpoint_paths. Manually adding it.\n",
            "14000     [3.37e+09, 3.36e+09, 3.49e+01, 4.50e+01, 1.98e+03, 2.90e+01, 7.79e+03, 2.11e+03, 1.31e+05, 2.57e+04, 1.97e+09, 2.44e+05, 2.29e+11, 2.66e+04]    [1.26e+17, 1.26e+17, 3.15e+05, 4.04e+05, 5.81e+05, 2.42e+05, 0.00e+00, 0.00e+00, 0.00e+00, 0.00e+00, 0.00e+00, 0.00e+00, 0.00e+00, 0.00e+00]    []  \n",
            "Epoch 14000: train loss improved from 2.61e+11 to 2.38e+11, saving model to ./model/model.ckpt-14000 ...\n",
            "\n",
            "INFO:tensorflow:./model/model.ckpt-14000 is not in all_model_checkpoint_paths. Manually adding it.\n",
            "15000     [2.24e+10, 2.23e+10, 1.80e+02, 2.60e+02, 5.59e+02, 1.45e+02, 1.55e+04, 7.48e+06, 1.07e+05, 1.52e+04, 2.22e+09, 3.28e+05, 5.13e+11, 2.18e+05]    [1.00e+17, 1.00e+17, 3.92e+05, 5.71e+05, 5.23e+05, 3.27e+05, 0.00e+00, 0.00e+00, 0.00e+00, 0.00e+00, 0.00e+00, 0.00e+00, 0.00e+00, 0.00e+00]    []  \n",
            "16000     [6.45e+09, 6.44e+09, 1.13e+02, 1.58e+02, 6.30e+02, 8.38e+01, 1.03e+04, 1.55e+06, 1.26e+05, 2.55e+04, 1.94e+09, 2.35e+05, 4.18e+11, 1.10e+05]    [1.07e+17, 1.07e+17, 3.98e+05, 5.81e+05, 5.39e+05, 3.46e+05, 0.00e+00, 0.00e+00, 0.00e+00, 0.00e+00, 0.00e+00, 0.00e+00, 0.00e+00, 0.00e+00]    []  \n",
            "17000     [4.60e+09, 4.60e+09, 8.38e+01, 1.17e+02, 8.59e+02, 6.35e+01, 8.90e+03, 5.32e+05, 1.25e+05, 2.44e+04, 1.94e+09, 2.35e+05, 3.60e+11, 6.89e+04]    [1.61e+17, 1.61e+17, 4.78e+05, 6.97e+05, 6.58e+05, 4.34e+05, 0.00e+00, 0.00e+00, 0.00e+00, 0.00e+00, 0.00e+00, 0.00e+00, 0.00e+00, 0.00e+00]    []  \n",
            "18000     [3.96e+09, 3.95e+09, 7.56e+01, 1.03e+02, 1.13e+03, 5.80e+01, 8.31e+03, 2.73e+05, 1.25e+05, 2.41e+04, 1.95e+09, 2.38e+05, 3.27e+11, 5.85e+04]    [2.36e+17, 2.36e+17, 5.63e+05, 8.23e+05, 7.99e+05, 5.44e+05, 0.00e+00, 0.00e+00, 0.00e+00, 0.00e+00, 0.00e+00, 0.00e+00, 0.00e+00, 0.00e+00]    []  \n",
            "19000     [3.55e+09, 3.55e+09, 7.57e+01, 9.70e+01, 1.37e+03, 5.81e+01, 8.13e+03, 2.29e+05, 1.24e+05, 2.38e+04, 1.95e+09, 2.39e+05, 2.99e+11, 5.11e+04]    [3.33e+17, 3.33e+17, 6.41e+05, 9.43e+05, 9.55e+05, 6.78e+05, 0.00e+00, 0.00e+00, 0.00e+00, 0.00e+00, 0.00e+00, 0.00e+00, 0.00e+00, 0.00e+00]    []  \n",
            "20000     [2.98e+09, 2.97e+09, 6.25e+01, 8.15e+01, 1.60e+03, 5.28e+01, 7.25e+03, 7.67e+03, 1.24e+05, 2.30e+04, 1.96e+09, 2.39e+05, 2.77e+11, 4.29e+04]    [4.45e+17, 4.45e+17, 7.08e+05, 1.05e+06, 1.12e+06, 8.38e+05, 0.00e+00, 0.00e+00, 0.00e+00, 0.00e+00, 0.00e+00, 0.00e+00, 0.00e+00, 0.00e+00]    []  \n",
            "21000     [2.82e+09, 2.81e+09, 5.96e+01, 7.59e+01, 1.77e+03, 5.25e+01, 7.18e+03, 4.04e+04, 1.24e+05, 2.34e+04, 1.96e+09, 2.40e+05, 2.56e+11, 3.47e+04]    [5.05e+17, 5.05e+17, 7.98e+05, 1.09e+06, 1.14e+06, 9.05e+05, 0.00e+00, 0.00e+00, 0.00e+00, 0.00e+00, 0.00e+00, 0.00e+00, 0.00e+00, 0.00e+00]    []  \n",
            "\n",
            "Best model at step 14000:\n",
            "  train loss: 2.38e+11\n",
            "  test loss: 2.52e+17\n",
            "  test metric: []\n",
            "\n",
            "'train' took 228.830873 s\n",
            "\n",
            "Saving loss history to loss.dat ...\n",
            "Saving training data to train.dat ...\n",
            "Saving test data to test.dat ...\n"
          ]
        },
        {
          "output_type": "display_data",
          "data": {
            "image/png": "[encoded data removed]",
            "text/plain": [
              "<Figure size 432x288 with 1 Axes>"
            ]
          },
          "metadata": {
            "needs_background": "light"
          }
        },
        {
          "output_type": "display_data",
          "data": {
            "image/png": "[encoded data removed]",
            "text/plain": [
              "<Figure size 432x288 with 1 Axes>"
            ]
          },
          "metadata": {
            "needs_background": "light"
          }
        }
      ]
    },
    {
      "cell_type": "code",
      "source": [
        "var_list[0]"
      ],
      "metadata": {
        "colab": {
          "base_uri": "https://localhost:8080/"
        },
        "id": "c1DYnmJgEZ27",
        "outputId": "b56cee2f-7045-48ce-cbed-61fff9eb93e6"
      },
      "execution_count": 53,
      "outputs": [
        {
          "output_type": "execute_result",
          "data": {
            "text/plain": [
              "[0.5643881,\n",
              " 0.8341429,\n",
              " 0.6104228,\n",
              " 0.1443192,\n",
              " 0.25407273,\n",
              " 0.35505974,\n",
              " 0.78292733,\n",
              " 0.6931472]"
            ]
          },
          "metadata": {},
          "execution_count": 53
        }
      ]
    },
    {
      "cell_type": "code",
      "source": [
        "# Prediction\n",
        "y = seirm_model_covid(np.ravel(t), alpha=var_list[0][0],\n",
        "                      alpha_r=var_list[0][1],\n",
        "                      beta=var_list[0][2],\n",
        "                      gamma_r=var_list[0][3],\n",
        "                      gamma_u=var_list[0][4],\n",
        "                      mu=var_list[0][5],\n",
        "                      N=var_list[0][6],\n",
        "                      E=var_list[0][7])"
      ],
      "metadata": {
        "id": "2bHwzer2C8iy"
      },
      "execution_count": 54,
      "outputs": []
    },
    {
      "cell_type": "code",
      "source": [
        "import matplotlib.pyplot as plt\n",
        "def plotGenData(Data):\n",
        "    figure = plt.figure(figsize = (10.24, 7.68))\n",
        "    plt.plot(Data[:,0], label = 'S')\n",
        "    plt.plot(Data[:,1], label = 'E')\n",
        "    plt.plot(Data[:,2], label = 'I_r')\n",
        "    plt.plot(Data[:,3], label = 'I_u')\n",
        "    plt.plot(Data[:,4], label = 'R')\n",
        "    plt.plot(Data[:,5], label = 'M')\n",
        "    plt.legend()\n",
        "    plt.show()"
      ],
      "metadata": {
        "id": "oCwj7-V5Er5Q"
      },
      "execution_count": 55,
      "outputs": []
    },
    {
      "cell_type": "code",
      "source": [
        "plotGenData(y)"
      ],
      "metadata": {
        "colab": {
          "base_uri": "https://localhost:8080/",
          "height": 465
        },
        "id": "MG18AYdJE5a8",
        "outputId": "e9695f1b-04c6-466d-c146-1dad20536425"
      },
      "execution_count": 56,
      "outputs": [
        {
          "output_type": "display_data",
          "data": {
            "image/png": "[encoded data removed]",
            "text/plain": [
              "<Figure size 737.28x552.96 with 1 Axes>"
            ]
          },
          "metadata": {
            "needs_background": "light"
          }
        }
      ]
    },
    {
      "cell_type": "code",
      "source": [
        "YCases = N-y[:,0]-y[:,1]\n",
        "YCases = np.gradient(YCases)\n",
        "YDeaths = y[:,5]\n",
        "YDeaths = np.gradient(YDeaths)\n",
        "YReports = alpha * YCases\n",
        "YData = np.hstack((YReports, YDeaths))\n",
        "YData = np.array(YData, dtype = float)\n",
        "rng = np.random.default_rng()\n",
        "Noise = 2 * rng.normal(size=YData.size)\n",
        "YData += Noise"
      ],
      "metadata": {
        "id": "t8w_4cbIFIC4"
      },
      "execution_count": 57,
      "outputs": []
    },
    {
      "cell_type": "code",
      "source": [
        "from scipy import optimize,integrate"
      ],
      "metadata": {
        "id": "kqcMPTgBGJcQ"
      },
      "execution_count": 62,
      "outputs": []
    },
    {
      "cell_type": "code",
      "source": [
        "def FitSEIRM(x, alpha, alpha_r, beta, gamma_r, gamma_u, mu, E0, N):        \n",
        "    S0 = N - E0\n",
        "    \n",
        "    ret =  integrate.odeint(func = SEIRM, y0 = (S0, E0, 0, 0, 0 ,0), t = x, args = (alpha, alpha_r, beta, gamma_r, gamma_u, mu,N))\n",
        "\n",
        "    I = N - ret[:,0] - ret[:,1]\n",
        "    I = alpha*np.gradient(I)\n",
        "    M = ret[:,5]\n",
        "    M = np.gradient(M)\n",
        "    IM = np.hstack((I,M))\n",
        "\n",
        "    return IM"
      ],
      "metadata": {
        "id": "RJnWf9xlGQJQ"
      },
      "execution_count": 59,
      "outputs": []
    },
    {
      "cell_type": "code",
      "source": [
        "XData = list(range(1, 91,1))\n",
        "XData = np.array(XData, dtype = float)"
      ],
      "metadata": {
        "id": "eRoyf1JwHAk7"
      },
      "execution_count": 60,
      "outputs": []
    },
    {
      "cell_type": "code",
      "source": [
        "ParaOpt, ParaCov = optimize.curve_fit(f = FitSEIRM, xdata = XData, ydata = YData, maxfev = 10000, p0 = (1, 1, 1, 1, 1,  1, 10, N), bounds = [[0,0,0,0,0,0,0,0], [1,1,1,1,1,1,N,N]])\n",
        "    \n",
        "print(ParaOpt)\n",
        "    \n",
        "Result_good = FitSEIRM(XData, *ParaOpt[0:8])\n",
        "\n",
        "plt.subplot(2,3,4)\n",
        "plt.plot(XData, YReports, label='Actual')\n",
        "plt.plot(XData, Result_good[:len(YCases)], label='Fitted')\n",
        "plt.xlabel('Time')\n",
        "plt.title('Reported Cases')\n",
        "plt.legend()\n",
        "    \n",
        "plt.subplot(2,3,5)\n",
        "plt.plot(XData, YDeaths, label='Actual')\n",
        "plt.plot(XData, Result_good[len(YCases):], label='Fitted')\n",
        "plt.xlabel('Time')\n",
        "plt.title('Mortality Cases')\n",
        "#plt.legend()\n",
        "    \n",
        "plt.subplot(2,3,6)\n",
        "plt.plot(XData, YCases, label='Actual')\n",
        "plt.plot(XData, Result_good[:len(YCases)]/ParaOpt[0], label='Predicted')\n",
        "plt.xlabel('Time')\n",
        "plt.title('Infected Cases')\n",
        "#plt.legend()\n",
        "\n",
        "plt.savefig(\"result.png\")\n",
        "plt.show()"
      ],
      "metadata": {
        "colab": {
          "base_uri": "https://localhost:8080/",
          "height": 212
        },
        "id": "VJLtNMo6GEW-",
        "outputId": "83f70d4b-18b6-4217-c6f0-c1394e7a50ac"
      },
      "execution_count": 63,
      "outputs": [
        {
          "output_type": "stream",
          "name": "stdout",
          "text": [
            "[6.23341495e-02 1.02284262e-01 3.62952136e-01 6.28481020e-01\n",
            " 5.32345004e-04 2.55076988e-09 4.12487137e-08 3.45324718e+02]\n"
          ]
        },
        {
          "output_type": "display_data",
          "data": {
            "image/png": "[encoded data removed]",
            "text/plain": [
              "<Figure size 432x288 with 3 Axes>"
            ]
          },
          "metadata": {
            "needs_background": "light"
          }
        }
      ]
    }
  ]
}